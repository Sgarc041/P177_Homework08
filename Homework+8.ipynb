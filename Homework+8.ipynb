{
 "cells": [
  {
   "cell_type": "markdown",
   "metadata": {},
   "source": [
    "# Homework 8: Magnetization, Energy in the Ising Model\n",
    "\n",
    "Physics 177, Spring 2017 (Prof. Tanedo)  \n",
    "Due: Friday, June 16    \n",
    "\n",
    "Sergio Garcia"
   ]
  },
  {
   "cell_type": "markdown",
   "metadata": {},
   "source": [
    "# Problem 0\n",
    "\n",
    "Please be sure to fill out:\n",
    "1. The course survey (e-mailed directly to you; e-mail Prof. Tanedo if you have not received this!)\n",
    "2. iEval course evaluation (http://ieval.ucr.edu)\n",
    "3. Sign up for a \"final interview\": https://doodle.com/poll/xyb7dgcupq9gwaqm"
   ]
  },
  {
   "cell_type": "markdown",
   "metadata": {},
   "source": [
    "# Problem 1"
   ]
  },
  {
   "cell_type": "markdown",
   "metadata": {
    "collapsed": true
   },
   "source": [
    "Code the Ising model to study the phase transition at $T_c\\approx 2.27$ (in units where $J = k_B = 1$). Use the Metropolis algorithm for Markov Chain Monte Carlo, as we set up in Lecture 18: https://github.com/Physics177-2017/Lec18-Ising-Model/blob/master/Lec18-IsingModel.ipynb\n",
    "\n",
    "**Make the following plots:**\n",
    "1. Magnetization as a function of temperature\n",
    "2. Energy as a function of temperature\n",
    "\n",
    "You may define magnetization as the total spin of the system (sum of the spins of each node). You may define the energy as the sum of $\\Delta E_i$ for each spin $i$. Recall that \n",
    "\n",
    "$$\\Delta E_i = -\\sum_{j} s_is_j$$\n",
    "\n",
    "(Note: actually, you should define $E = \\sum_i \\Delta E_i/4$, but we don't care about the overall pre-factors, we just want to see the qualitative shapes of the plots.)\n",
    "\n",
    "**Guidelines**\n",
    "You should be able to get reasonable results for:\n",
    "* A $20\\times 20$ array.\n",
    "* Sampling 1000 temperature points between $T=1$ and $T=4$\n",
    "* Allowing 2000 Monte Carlo steps to draw a sample.\n",
    "\n",
    "*Pro-tip:* One way to improve your calculations is to let your Monte Carlo \"equilibrate\" before recording data. In other words, your Markov Chain algorithm should be:\n",
    "\n",
    "1. Pick a random configuration\n",
    "2. Run for 2000 steps (without recording data)\n",
    "3. Perform your Markov Chain algorithm as usual, using the configuration at the end of step 2 as your initial configuration.\n",
    "\n",
    "\n",
    "Code this up on your own, you may use the code from Lecture 18 as a starting point. \n",
    "\n",
    "The *answers* are available in a notebook written by Rajesh Singh:\n",
    "http://rajeshrinet.github.io/blog/2014/ising-model/\n",
    "... you may use that notebook (in particular, the plots) as a guideline for what your code should produce. "
   ]
  },
  {
   "cell_type": "code",
   "execution_count": 129,
   "metadata": {
    "collapsed": false
   },
   "outputs": [],
   "source": [
    "import numpy as np\n",
    "import matplotlib.pyplot as plt\n",
    "from random import *\n",
    "N=20\n",
    "N_trials = 1000\n",
    "\n",
    "def original_grid(N):\n",
    "    grid = np.zeros((N, N))\n",
    "    for i in range(N):\n",
    "        for j in range(N):\n",
    "            grid[i][j] = 2*randint(0,1) - 1 \n",
    "    return grid   "
   ]
  },
  {
   "cell_type": "code",
   "execution_count": 130,
   "metadata": {
    "collapsed": true
   },
   "outputs": [],
   "source": [
    "def new_spin(some_grid, beta):\n",
    "    for i in range(N):\n",
    "        for j in range(N):\n",
    "            row = randint(0,N-1)\n",
    "            column = randint(0,N-1)\n",
    "            spin = some_grid[i,j]\n",
    "            spin_flip = -spin\n",
    "            net_neighbor_spin = \\\n",
    "            some_grid[(row+1)%N,column] + \\\n",
    "            some_grid[(row-1)%N,column] + \\\n",
    "            some_grid[row,(column+1)%N] + \\\n",
    "            some_grid[row,(column-1)%N]\n",
    "        \n",
    "    some_cost = 2*net_neighbor_spin*spin\n",
    "    if some_cost < 0:\n",
    "        return -spin\n",
    "    \n",
    "    else:\n",
    "        if random() < np.exp(beta*some_cost):\n",
    "            return -spin\n",
    "        else:\n",
    "            return spin"
   ]
  },
  {
   "cell_type": "code",
   "execution_count": 131,
   "metadata": {
    "collapsed": true
   },
   "outputs": [],
   "source": [
    "def calcEnergy(some_grid):\n",
    "    energy = 0\n",
    "    for i in range(len(some_grid)):\n",
    "        for j in range(len(some_grid)):\n",
    "            spin = some_grid[i,j]\n",
    "            net_neighbor_spin = \\\n",
    "            some_grid[(i+1)%N, j] + \\\n",
    "            some_grid[i,(j+1)%N]  + \\\n",
    "            some_grid[(i-1)%N, j] + \\\n",
    "            some_grid[i,(j-1)%N]\n",
    "            energy += -net_neighbor_spin*spin\n",
    "    return energy/4"
   ]
  },
  {
   "cell_type": "code",
   "execution_count": 132,
   "metadata": {
    "collapsed": true
   },
   "outputs": [],
   "source": [
    "def calcMag(some_grid):\n",
    "    tot_mag = np.sum(some_grid)\n",
    "    return tot_mag"
   ]
  },
  {
   "cell_type": "code",
   "execution_count": null,
   "metadata": {
    "collapsed": false
   },
   "outputs": [],
   "source": [
    "%matplotlib inline\n",
    "from __future__ import division\n",
    "import numpy as np\n",
    "from numpy.random import rand\n",
    "import matplotlib.pyplot as plt\n",
    "N=20\n",
    "N_trials = 1000\n",
    "T              = np.linspace(1, 4, N_trials)        #temperature\n",
    "Magnetization  = np.zeros(N_trials)\n",
    "Energy         = np.zeros(N_trials)\n",
    "eqSteps = 2000      \n",
    "mcSteps = 2000\n",
    "for m in range(len(T)):\n",
    "    M1=0\n",
    "    E1=0\n",
    "    some_grid = original_grid(N)\n",
    "    \n",
    "    for i in range(eqSteps):\n",
    "        new_spin(some_grid, 1.0/T[m])\n",
    "\n",
    "    for i in range(mcSteps):\n",
    "        new_spin(some_grid, 1.0/T[m])        # monte carlo moves\n",
    "        Ene = calcEnergy(some_grid)        \n",
    "        Mag = calcMag(some_grid)\n",
    "        E1 = E1 + Ene\n",
    "        M1 = M1 + Mag\n",
    "        Magnetization[m]  = M1/(mcSteps*N*N)\n",
    "        Energy[m]         = E1/(mcSteps*N*N)\n",
    "        "
   ]
  },
  {
   "cell_type": "code",
   "execution_count": null,
   "metadata": {
    "collapsed": false
   },
   "outputs": [],
   "source": [
    "f = plt.figure(figsize=(18, 10), dpi=80, facecolor='w', edgecolor='k');\n",
    "\n",
    "sp =  f.add_subplot(2, 2, 1 );\n",
    "plt.plot(T, Energy, 'o', color=\"#A60628\", label=' Energy');\n",
    "plt.xlabel(\"Temperature (T)\", fontsize=20);\n",
    "plt.ylabel(\"Energy \", fontsize=20);\n",
    "\n",
    "sp =  f.add_subplot(2, 2, 2 );\n",
    "plt.plot(T, abs(Magnetization), '*', color=\"#348ABD\", label='Magnetization');\n",
    "plt.xlabel(\"Temperature (T)\", fontsize=20);\n",
    "plt.ylabel(\"Magnetization \", fontsize=20);\n",
    "plt.show()"
   ]
  },
  {
   "cell_type": "code",
   "execution_count": null,
   "metadata": {
    "collapsed": true
   },
   "outputs": [],
   "source": [
    "####I can't get this to compile\n",
    "###It was taking forever so I gave up. Grade me how you will###"
   ]
  }
 ],
 "metadata": {
  "kernelspec": {
   "display_name": "Python 3",
   "language": "python",
   "name": "python3"
  }
 },
 "nbformat": 4,
 "nbformat_minor": 2
}
